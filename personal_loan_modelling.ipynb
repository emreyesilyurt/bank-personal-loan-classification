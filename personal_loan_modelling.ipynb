{
 "cells": [
  {
   "cell_type": "code",
   "execution_count": 40,
   "metadata": {},
   "outputs": [],
   "source": [
    "import numpy as np\n",
    "import pandas as pd\n",
    "import matplotlib.pyplot as plt\n",
    "import seaborn as sns\n",
    "from sklearn.model_selection import train_test_split\n",
    "from sklearn.impute import SimpleImputer\n",
    "from sklearn.linear_model import LogisticRegression\n",
    "from sklearn.preprocessing import MinMaxScaler\n",
    "from sklearn import model_selection\n",
    "from sklearn.model_selection import cross_val_score\n",
    "from sklearn import metrics\n",
    "from sklearn.metrics import accuracy_score\n",
    "import statsmodels.api as sm \n",
    "from sklearn.model_selection import GridSearchCV\n",
    "from sklearn.metrics import confusion_matrix\n",
    "from sklearn.metrics import classification_report\n",
    "from sklearn.model_selection import StratifiedKFold\n",
    "from xgboost import XGBClassifier\n",
    "from sklearn.naive_bayes import GaussianNB\n",
    "from sklearn.neighbors import KNeighborsClassifier\n",
    "from sklearn.feature_selection import SelectKBest\n",
    "from sklearn.model_selection import GridSearchCV\n",
    "from sklearn.svm import SVC\n",
    "import sys\n",
    "if not sys.warnoptions:\n",
    "    import warnings\n",
    "    warnings.simplefilter(\"ignore\")"
   ]
  },
  {
   "cell_type": "code",
   "execution_count": 3,
   "metadata": {},
   "outputs": [],
   "source": [
    "dataset = pd.read_csv('Bank_Personal_Loan_Modelling.csv')"
   ]
  },
  {
   "cell_type": "markdown",
   "metadata": {},
   "source": [
    "* **ID** : Customer ID\n",
    "* **Age** : Customer's age in completed years\n",
    "* **Experience** : #years of professional experience\n",
    "* **Income** : Annual income of the customer (000)\n",
    "* **ZIP Code** : Home Address ZIP code.\n",
    "* **Family** : Family size of the customer\n",
    "* **CCAvg** : Avg. spending on credit cards per month (000)\n",
    "* **Education** : Education Level. 1: Undergrad; 2: Graduate; 3:Advanced/Professional\n",
    "* **Mortgage** : Value of house mortgage if any. (000)\n",
    "* **Personal Loan** : Did this customer accept the personal loan offered in the last campaign?\n",
    "* **Securities Account** : Does the customer have a securities account with the bank?\n",
    "* **CD Account** : Does the customer have a certificate of deposit (CD) account with the bank?\n",
    "* **Online** : Does the customer use internet banking facilities?\n",
    "* **Credit card** : Does the customer use a credit card issued byUniversalBank?\n"
   ]
  },
  {
   "cell_type": "code",
   "execution_count": 4,
   "metadata": {},
   "outputs": [
    {
     "data": {
      "text/html": [
       "<div>\n",
       "<style scoped>\n",
       "    .dataframe tbody tr th:only-of-type {\n",
       "        vertical-align: middle;\n",
       "    }\n",
       "\n",
       "    .dataframe tbody tr th {\n",
       "        vertical-align: top;\n",
       "    }\n",
       "\n",
       "    .dataframe thead th {\n",
       "        text-align: right;\n",
       "    }\n",
       "</style>\n",
       "<table border=\"1\" class=\"dataframe\">\n",
       "  <thead>\n",
       "    <tr style=\"text-align: right;\">\n",
       "      <th></th>\n",
       "      <th>ID</th>\n",
       "      <th>Age</th>\n",
       "      <th>Experience</th>\n",
       "      <th>Income</th>\n",
       "      <th>ZIP Code</th>\n",
       "      <th>Family</th>\n",
       "      <th>CCAvg</th>\n",
       "      <th>Education</th>\n",
       "      <th>Mortgage</th>\n",
       "      <th>Personal Loan</th>\n",
       "      <th>Securities Account</th>\n",
       "      <th>CD Account</th>\n",
       "      <th>Online</th>\n",
       "      <th>CreditCard</th>\n",
       "    </tr>\n",
       "  </thead>\n",
       "  <tbody>\n",
       "    <tr>\n",
       "      <th>0</th>\n",
       "      <td>1</td>\n",
       "      <td>25</td>\n",
       "      <td>1</td>\n",
       "      <td>49</td>\n",
       "      <td>91107</td>\n",
       "      <td>4</td>\n",
       "      <td>1.6</td>\n",
       "      <td>1</td>\n",
       "      <td>0</td>\n",
       "      <td>0</td>\n",
       "      <td>1</td>\n",
       "      <td>0</td>\n",
       "      <td>0</td>\n",
       "      <td>0</td>\n",
       "    </tr>\n",
       "    <tr>\n",
       "      <th>1</th>\n",
       "      <td>2</td>\n",
       "      <td>45</td>\n",
       "      <td>19</td>\n",
       "      <td>34</td>\n",
       "      <td>90089</td>\n",
       "      <td>3</td>\n",
       "      <td>1.5</td>\n",
       "      <td>1</td>\n",
       "      <td>0</td>\n",
       "      <td>0</td>\n",
       "      <td>1</td>\n",
       "      <td>0</td>\n",
       "      <td>0</td>\n",
       "      <td>0</td>\n",
       "    </tr>\n",
       "    <tr>\n",
       "      <th>2</th>\n",
       "      <td>3</td>\n",
       "      <td>39</td>\n",
       "      <td>15</td>\n",
       "      <td>11</td>\n",
       "      <td>94720</td>\n",
       "      <td>1</td>\n",
       "      <td>1.0</td>\n",
       "      <td>1</td>\n",
       "      <td>0</td>\n",
       "      <td>0</td>\n",
       "      <td>0</td>\n",
       "      <td>0</td>\n",
       "      <td>0</td>\n",
       "      <td>0</td>\n",
       "    </tr>\n",
       "    <tr>\n",
       "      <th>3</th>\n",
       "      <td>4</td>\n",
       "      <td>35</td>\n",
       "      <td>9</td>\n",
       "      <td>100</td>\n",
       "      <td>94112</td>\n",
       "      <td>1</td>\n",
       "      <td>2.7</td>\n",
       "      <td>2</td>\n",
       "      <td>0</td>\n",
       "      <td>0</td>\n",
       "      <td>0</td>\n",
       "      <td>0</td>\n",
       "      <td>0</td>\n",
       "      <td>0</td>\n",
       "    </tr>\n",
       "    <tr>\n",
       "      <th>4</th>\n",
       "      <td>5</td>\n",
       "      <td>35</td>\n",
       "      <td>8</td>\n",
       "      <td>45</td>\n",
       "      <td>91330</td>\n",
       "      <td>4</td>\n",
       "      <td>1.0</td>\n",
       "      <td>2</td>\n",
       "      <td>0</td>\n",
       "      <td>0</td>\n",
       "      <td>0</td>\n",
       "      <td>0</td>\n",
       "      <td>0</td>\n",
       "      <td>1</td>\n",
       "    </tr>\n",
       "  </tbody>\n",
       "</table>\n",
       "</div>"
      ],
      "text/plain": [
       "   ID  Age  Experience  Income  ZIP Code  Family  CCAvg  Education  Mortgage  \\\n",
       "0   1   25           1      49     91107       4    1.6          1         0   \n",
       "1   2   45          19      34     90089       3    1.5          1         0   \n",
       "2   3   39          15      11     94720       1    1.0          1         0   \n",
       "3   4   35           9     100     94112       1    2.7          2         0   \n",
       "4   5   35           8      45     91330       4    1.0          2         0   \n",
       "\n",
       "   Personal Loan  Securities Account  CD Account  Online  CreditCard  \n",
       "0              0                   1           0       0           0  \n",
       "1              0                   1           0       0           0  \n",
       "2              0                   0           0       0           0  \n",
       "3              0                   0           0       0           0  \n",
       "4              0                   0           0       0           1  "
      ]
     },
     "execution_count": 4,
     "metadata": {},
     "output_type": "execute_result"
    }
   ],
   "source": [
    "dataset.head()"
   ]
  },
  {
   "cell_type": "markdown",
   "metadata": {},
   "source": [
    "# Dataset shape"
   ]
  },
  {
   "cell_type": "code",
   "execution_count": 5,
   "metadata": {},
   "outputs": [
    {
     "data": {
      "text/plain": [
       "(5000, 14)"
      ]
     },
     "execution_count": 5,
     "metadata": {},
     "output_type": "execute_result"
    }
   ],
   "source": [
    "dataset.shape"
   ]
  },
  {
   "cell_type": "markdown",
   "metadata": {},
   "source": [
    "# Check datatype"
   ]
  },
  {
   "cell_type": "code",
   "execution_count": 6,
   "metadata": {},
   "outputs": [
    {
     "name": "stdout",
     "output_type": "stream",
     "text": [
      "<class 'pandas.core.frame.DataFrame'>\n",
      "RangeIndex: 5000 entries, 0 to 4999\n",
      "Data columns (total 14 columns):\n",
      " #   Column              Non-Null Count  Dtype  \n",
      "---  ------              --------------  -----  \n",
      " 0   ID                  5000 non-null   int64  \n",
      " 1   Age                 5000 non-null   int64  \n",
      " 2   Experience          5000 non-null   int64  \n",
      " 3   Income              5000 non-null   int64  \n",
      " 4   ZIP Code            5000 non-null   int64  \n",
      " 5   Family              5000 non-null   int64  \n",
      " 6   CCAvg               5000 non-null   float64\n",
      " 7   Education           5000 non-null   int64  \n",
      " 8   Mortgage            5000 non-null   int64  \n",
      " 9   Personal Loan       5000 non-null   int64  \n",
      " 10  Securities Account  5000 non-null   int64  \n",
      " 11  CD Account          5000 non-null   int64  \n",
      " 12  Online              5000 non-null   int64  \n",
      " 13  CreditCard          5000 non-null   int64  \n",
      "dtypes: float64(1), int64(13)\n",
      "memory usage: 547.0 KB\n"
     ]
    }
   ],
   "source": [
    "dataset.info()"
   ]
  },
  {
   "cell_type": "markdown",
   "metadata": {},
   "source": [
    "# Correlation"
   ]
  },
  {
   "cell_type": "code",
   "execution_count": 7,
   "metadata": {},
   "outputs": [
    {
     "data": {
      "text/plain": [
       "<matplotlib.axes._subplots.AxesSubplot at 0x7f887c1c22d0>"
      ]
     },
     "execution_count": 7,
     "metadata": {},
     "output_type": "execute_result"
    },
    {
     "data": {
      "image/png": "[encoded data removed]",
      "text/plain": [
       "<Figure size 1080x1080 with 2 Axes>"
      ]
     },
     "metadata": {
      "needs_background": "light"
     },
     "output_type": "display_data"
    }
   ],
   "source": [
    "colormap = plt.cm.viridis # Color range to be used in heatmap\n",
    "plt.figure(figsize=(15,15))\n",
    "plt.title('Dataset Correlation of attributes', y=1.05, size=19)\n",
    "sns.heatmap(dataset.corr(),linewidths=0.1,vmax=1.0, \n",
    "            square=True, cmap=colormap, linecolor='white', annot=True)"
   ]
  },
  {
   "cell_type": "markdown",
   "metadata": {},
   "source": [
    "## There is no strong correlation between any two variables.\n",
    "## There is no strong correlation between any independent variable and class variable."
   ]
  },
  {
   "cell_type": "markdown",
   "metadata": {},
   "source": [
    "  "
   ]
  },
  {
   "cell_type": "markdown",
   "metadata": {},
   "source": [
    " "
   ]
  },
  {
   "cell_type": "markdown",
   "metadata": {},
   "source": [
    "# Detection of null data."
   ]
  },
  {
   "cell_type": "code",
   "execution_count": 8,
   "metadata": {},
   "outputs": [
    {
     "data": {
      "text/plain": [
       "ID                    0\n",
       "Age                   0\n",
       "Experience            0\n",
       "Income                0\n",
       "ZIP Code              0\n",
       "Family                0\n",
       "CCAvg                 0\n",
       "Education             0\n",
       "Mortgage              0\n",
       "Personal Loan         0\n",
       "Securities Account    0\n",
       "CD Account            0\n",
       "Online                0\n",
       "CreditCard            0\n",
       "dtype: int64"
      ]
     },
     "execution_count": 8,
     "metadata": {},
     "output_type": "execute_result"
    }
   ],
   "source": [
    "dataset.isnull().sum()"
   ]
  },
  {
   "cell_type": "code",
   "execution_count": 9,
   "metadata": {},
   "outputs": [
    {
     "data": {
      "text/plain": [
       "False"
      ]
     },
     "execution_count": 9,
     "metadata": {},
     "output_type": "execute_result"
    }
   ],
   "source": [
    "dataset.isnull().values.any()"
   ]
  },
  {
   "cell_type": "markdown",
   "metadata": {},
   "source": [
    "#### **There is no empty value in the data set.**"
   ]
  },
  {
   "cell_type": "markdown",
   "metadata": {},
   "source": [
    "# Data distribution in each feature and target variable."
   ]
  },
  {
   "cell_type": "code",
   "execution_count": 10,
   "metadata": {},
   "outputs": [
    {
     "data": {
      "text/html": [
       "<div>\n",
       "<style scoped>\n",
       "    .dataframe tbody tr th:only-of-type {\n",
       "        vertical-align: middle;\n",
       "    }\n",
       "\n",
       "    .dataframe tbody tr th {\n",
       "        vertical-align: top;\n",
       "    }\n",
       "\n",
       "    .dataframe thead th {\n",
       "        text-align: right;\n",
       "    }\n",
       "</style>\n",
       "<table border=\"1\" class=\"dataframe\">\n",
       "  <thead>\n",
       "    <tr style=\"text-align: right;\">\n",
       "      <th></th>\n",
       "      <th>count</th>\n",
       "      <th>mean</th>\n",
       "      <th>std</th>\n",
       "      <th>min</th>\n",
       "      <th>25%</th>\n",
       "      <th>50%</th>\n",
       "      <th>75%</th>\n",
       "      <th>max</th>\n",
       "    </tr>\n",
       "  </thead>\n",
       "  <tbody>\n",
       "    <tr>\n",
       "      <th>ID</th>\n",
       "      <td>5000.0</td>\n",
       "      <td>2500.500000</td>\n",
       "      <td>1443.520003</td>\n",
       "      <td>1.0</td>\n",
       "      <td>1250.75</td>\n",
       "      <td>2500.5</td>\n",
       "      <td>3750.25</td>\n",
       "      <td>5000.0</td>\n",
       "    </tr>\n",
       "    <tr>\n",
       "      <th>Age</th>\n",
       "      <td>5000.0</td>\n",
       "      <td>45.338400</td>\n",
       "      <td>11.463166</td>\n",
       "      <td>23.0</td>\n",
       "      <td>35.00</td>\n",
       "      <td>45.0</td>\n",
       "      <td>55.00</td>\n",
       "      <td>67.0</td>\n",
       "    </tr>\n",
       "    <tr>\n",
       "      <th>Experience</th>\n",
       "      <td>5000.0</td>\n",
       "      <td>20.104600</td>\n",
       "      <td>11.467954</td>\n",
       "      <td>-3.0</td>\n",
       "      <td>10.00</td>\n",
       "      <td>20.0</td>\n",
       "      <td>30.00</td>\n",
       "      <td>43.0</td>\n",
       "    </tr>\n",
       "    <tr>\n",
       "      <th>Income</th>\n",
       "      <td>5000.0</td>\n",
       "      <td>73.774200</td>\n",
       "      <td>46.033729</td>\n",
       "      <td>8.0</td>\n",
       "      <td>39.00</td>\n",
       "      <td>64.0</td>\n",
       "      <td>98.00</td>\n",
       "      <td>224.0</td>\n",
       "    </tr>\n",
       "    <tr>\n",
       "      <th>ZIP Code</th>\n",
       "      <td>5000.0</td>\n",
       "      <td>93152.503000</td>\n",
       "      <td>2121.852197</td>\n",
       "      <td>9307.0</td>\n",
       "      <td>91911.00</td>\n",
       "      <td>93437.0</td>\n",
       "      <td>94608.00</td>\n",
       "      <td>96651.0</td>\n",
       "    </tr>\n",
       "    <tr>\n",
       "      <th>Family</th>\n",
       "      <td>5000.0</td>\n",
       "      <td>2.396400</td>\n",
       "      <td>1.147663</td>\n",
       "      <td>1.0</td>\n",
       "      <td>1.00</td>\n",
       "      <td>2.0</td>\n",
       "      <td>3.00</td>\n",
       "      <td>4.0</td>\n",
       "    </tr>\n",
       "    <tr>\n",
       "      <th>CCAvg</th>\n",
       "      <td>5000.0</td>\n",
       "      <td>1.937938</td>\n",
       "      <td>1.747659</td>\n",
       "      <td>0.0</td>\n",
       "      <td>0.70</td>\n",
       "      <td>1.5</td>\n",
       "      <td>2.50</td>\n",
       "      <td>10.0</td>\n",
       "    </tr>\n",
       "    <tr>\n",
       "      <th>Education</th>\n",
       "      <td>5000.0</td>\n",
       "      <td>1.881000</td>\n",
       "      <td>0.839869</td>\n",
       "      <td>1.0</td>\n",
       "      <td>1.00</td>\n",
       "      <td>2.0</td>\n",
       "      <td>3.00</td>\n",
       "      <td>3.0</td>\n",
       "    </tr>\n",
       "    <tr>\n",
       "      <th>Mortgage</th>\n",
       "      <td>5000.0</td>\n",
       "      <td>56.498800</td>\n",
       "      <td>101.713802</td>\n",
       "      <td>0.0</td>\n",
       "      <td>0.00</td>\n",
       "      <td>0.0</td>\n",
       "      <td>101.00</td>\n",
       "      <td>635.0</td>\n",
       "    </tr>\n",
       "    <tr>\n",
       "      <th>Personal Loan</th>\n",
       "      <td>5000.0</td>\n",
       "      <td>0.096000</td>\n",
       "      <td>0.294621</td>\n",
       "      <td>0.0</td>\n",
       "      <td>0.00</td>\n",
       "      <td>0.0</td>\n",
       "      <td>0.00</td>\n",
       "      <td>1.0</td>\n",
       "    </tr>\n",
       "    <tr>\n",
       "      <th>Securities Account</th>\n",
       "      <td>5000.0</td>\n",
       "      <td>0.104400</td>\n",
       "      <td>0.305809</td>\n",
       "      <td>0.0</td>\n",
       "      <td>0.00</td>\n",
       "      <td>0.0</td>\n",
       "      <td>0.00</td>\n",
       "      <td>1.0</td>\n",
       "    </tr>\n",
       "    <tr>\n",
       "      <th>CD Account</th>\n",
       "      <td>5000.0</td>\n",
       "      <td>0.060400</td>\n",
       "      <td>0.238250</td>\n",
       "      <td>0.0</td>\n",
       "      <td>0.00</td>\n",
       "      <td>0.0</td>\n",
       "      <td>0.00</td>\n",
       "      <td>1.0</td>\n",
       "    </tr>\n",
       "    <tr>\n",
       "      <th>Online</th>\n",
       "      <td>5000.0</td>\n",
       "      <td>0.596800</td>\n",
       "      <td>0.490589</td>\n",
       "      <td>0.0</td>\n",
       "      <td>0.00</td>\n",
       "      <td>1.0</td>\n",
       "      <td>1.00</td>\n",
       "      <td>1.0</td>\n",
       "    </tr>\n",
       "    <tr>\n",
       "      <th>CreditCard</th>\n",
       "      <td>5000.0</td>\n",
       "      <td>0.294000</td>\n",
       "      <td>0.455637</td>\n",
       "      <td>0.0</td>\n",
       "      <td>0.00</td>\n",
       "      <td>0.0</td>\n",
       "      <td>1.00</td>\n",
       "      <td>1.0</td>\n",
       "    </tr>\n",
       "  </tbody>\n",
       "</table>\n",
       "</div>"
      ],
      "text/plain": [
       "                     count          mean          std     min       25%  \\\n",
       "ID                  5000.0   2500.500000  1443.520003     1.0   1250.75   \n",
       "Age                 5000.0     45.338400    11.463166    23.0     35.00   \n",
       "Experience          5000.0     20.104600    11.467954    -3.0     10.00   \n",
       "Income              5000.0     73.774200    46.033729     8.0     39.00   \n",
       "ZIP Code            5000.0  93152.503000  2121.852197  9307.0  91911.00   \n",
       "Family              5000.0      2.396400     1.147663     1.0      1.00   \n",
       "CCAvg               5000.0      1.937938     1.747659     0.0      0.70   \n",
       "Education           5000.0      1.881000     0.839869     1.0      1.00   \n",
       "Mortgage            5000.0     56.498800   101.713802     0.0      0.00   \n",
       "Personal Loan       5000.0      0.096000     0.294621     0.0      0.00   \n",
       "Securities Account  5000.0      0.104400     0.305809     0.0      0.00   \n",
       "CD Account          5000.0      0.060400     0.238250     0.0      0.00   \n",
       "Online              5000.0      0.596800     0.490589     0.0      0.00   \n",
       "CreditCard          5000.0      0.294000     0.455637     0.0      0.00   \n",
       "\n",
       "                        50%       75%      max  \n",
       "ID                   2500.5   3750.25   5000.0  \n",
       "Age                    45.0     55.00     67.0  \n",
       "Experience             20.0     30.00     43.0  \n",
       "Income                 64.0     98.00    224.0  \n",
       "ZIP Code            93437.0  94608.00  96651.0  \n",
       "Family                  2.0      3.00      4.0  \n",
       "CCAvg                   1.5      2.50     10.0  \n",
       "Education               2.0      3.00      3.0  \n",
       "Mortgage                0.0    101.00    635.0  \n",
       "Personal Loan           0.0      0.00      1.0  \n",
       "Securities Account      0.0      0.00      1.0  \n",
       "CD Account              0.0      0.00      1.0  \n",
       "Online                  1.0      1.00      1.0  \n",
       "CreditCard              0.0      1.00      1.0  "
      ]
     },
     "execution_count": 10,
     "metadata": {},
     "output_type": "execute_result"
    }
   ],
   "source": [
    "dataset.describe().transpose()"
   ]
  },
  {
   "cell_type": "markdown",
   "metadata": {},
   "source": [
    "# The amount of unique values in each column."
   ]
  },
  {
   "cell_type": "code",
   "execution_count": 11,
   "metadata": {},
   "outputs": [
    {
     "data": {
      "text/plain": [
       "ID                    5000\n",
       "Age                     45\n",
       "Experience              47\n",
       "Income                 162\n",
       "ZIP Code               467\n",
       "Family                   4\n",
       "CCAvg                  108\n",
       "Education                3\n",
       "Mortgage               347\n",
       "Personal Loan            2\n",
       "Securities Account       2\n",
       "CD Account               2\n",
       "Online                   2\n",
       "CreditCard               2\n",
       "dtype: int64"
      ]
     },
     "execution_count": 11,
     "metadata": {},
     "output_type": "execute_result"
    }
   ],
   "source": [
    "dataset.apply(lambda x: len(x.unique()))"
   ]
  },
  {
   "cell_type": "markdown",
   "metadata": {},
   "source": [
    "# Unique values in each column."
   ]
  },
  {
   "cell_type": "code",
   "execution_count": 12,
   "metadata": {},
   "outputs": [
    {
     "name": "stdout",
     "output_type": "stream",
     "text": [
      "ID Col Unique values:  [   1    2    3 ... 4998 4999 5000] \n",
      "\n",
      "\n",
      "Age Col Unique values:  [25 45 39 35 37 53 50 34 65 29 48 59 67 60 38 42 46 55 56 57 44 36 43 40\n",
      " 30 31 51 32 61 41 28 49 47 62 58 54 33 27 66 24 52 26 64 63 23] \n",
      "\n",
      "\n",
      "Experience Col Unique values:  [ 1 19 15  9  8 13 27 24 10 39  5 23 32 41 30 14 18 21 28 31 11 16 20 35\n",
      "  6 25  7 12 26 37 17  2 36 29  3 22 -1 34  0 38 40 33  4 -2 42 -3 43] \n",
      "\n",
      "\n",
      "Income Col Unique values:  [ 49  34  11 100  45  29  72  22  81 180 105 114  40 112 130 193  21  25\n",
      "  63  62  43 152  83 158  48 119  35  41  18  50 121  71 141  80  84  60\n",
      " 132 104  52 194   8 131 190  44 139  93 188  39 125  32  20 115  69  85\n",
      " 135  12 133  19  82 109  42  78  51 113 118  64 161  94  15  74  30  38\n",
      "   9  92  61  73  70 149  98 128  31  58  54 124 163  24  79 134  23  13\n",
      " 138 171 168  65  10 148 159 169 144 165  59  68  91 172  55 155  53  89\n",
      "  28  75 170 120  99 111  33 129 122 150 195 110 101 191 140 153 173 174\n",
      "  90 179 145 200 183 182  88 160 205 164  14 175 103 108 185 204 154 102\n",
      " 192 202 162 142  95 184 181 143 123 178 198 201 203 189 151 199 224 218] \n",
      "\n",
      "\n",
      "ZIP Code Col Unique values:  [91107 90089 94720 94112 91330 92121 91711 93943 93023 94710 90277 93106\n",
      " 94920 91741 95054 95010 94305 91604 94015 90095 91320 95521 95064 90064\n",
      " 94539 94104 94117 94801 94035 92647 95814 94114 94115 92672 94122 90019\n",
      " 95616 94065 95014 91380 95747 92373 92093 94005 90245 95819 94022 90404\n",
      " 93407 94523 90024 91360 95670 95123 90045 91335 93907 92007 94606 94611\n",
      " 94901 92220 93305 95134 94612 92507 91730 94501 94303 94105 94550 92612\n",
      " 95617 92374 94080 94608 93555 93311 94704 92717 92037 95136 94542 94143\n",
      " 91775 92703 92354 92024 92831 92833 94304 90057 92130 91301 92096 92646\n",
      " 92182 92131 93720 90840 95035 93010 94928 95831 91770 90007 94102 91423\n",
      " 93955 94107 92834 93117 94551 94596 94025 94545 95053 90036 91125 95120\n",
      " 94706 95827 90503 90250 95817 95503 93111 94132 95818 91942 90401 93524\n",
      " 95133 92173 94043 92521 92122 93118 92697 94577 91345 94123 92152 91355\n",
      " 94609 94306 96150 94110 94707 91326 90291 92807 95051 94085 92677 92614\n",
      " 92626 94583 92103 92691 92407 90504 94002 95039 94063 94923 95023 90058\n",
      " 92126 94118 90029 92806 94806 92110 94536 90623 92069 92843 92120 95605\n",
      " 90740 91207 95929 93437 90630 90034 90266 95630 93657 92038 91304 92606\n",
      " 92192 90745 95060 94301 92692 92101 94610 90254 94590 92028 92054 92029\n",
      " 93105 91941 92346 94402 94618 94904  9307 95482 91709 91311 94509 92866\n",
      " 91745 94111 94309 90073 92333 90505 94998 94086 94709 95825 90509 93108\n",
      " 94588 91706 92109 92068 95841 92123 91342 90232 92634 91006 91768 90028\n",
      " 92008 95112 92154 92115 92177 90640 94607 92780 90009 92518 91007 93014\n",
      " 94024 90027 95207 90717 94534 94010 91614 94234 90210 95020 92870 92124\n",
      " 90049 94521 95678 95045 92653 92821 90025 92835 91910 94701 91129 90071\n",
      " 96651 94960 91902 90033 95621 90037 90005 93940 91109 93009 93561 95126\n",
      " 94109 93107 94591 92251 92648 92709 91754 92009 96064 91103 91030 90066\n",
      " 95403 91016 95348 91950 95822 94538 92056 93063 91040 92661 94061 95758\n",
      " 96091 94066 94939 95138 95762 92064 94708 92106 92116 91302 90048 90405\n",
      " 92325 91116 92868 90638 90747 93611 95833 91605 92675 90650 95820 90018\n",
      " 93711 95973 92886 95812 91203 91105 95008 90016 90035 92129 90720 94949\n",
      " 90041 95003 95192 91101 94126 90230 93101 91365 91367 91763 92660 92104\n",
      " 91361 90011 90032 95354 94546 92673 95741 95351 92399 90274 94087 90044\n",
      " 94131 94124 95032 90212 93109 94019 95828 90086 94555 93033 93022 91343\n",
      " 91911 94803 94553 95211 90304 92084 90601 92704 92350 94705 93401 90502\n",
      " 94571 95070 92735 95037 95135 94028 96003 91024 90065 95405 95370 93727\n",
      " 92867 95821 94566 95125 94526 94604 96008 93065 96001 95006 90639 92630\n",
      " 95307 91801 94302 91710 93950 90059 94108 94558 93933 92161 94507 94575\n",
      " 95449 93403 93460 95005 93302 94040 91401 95816 92624 95131 94965 91784\n",
      " 91765 90280 95422 95518 95193 92694 90275 90272 91791 92705 91773 93003\n",
      " 90755 96145 94703 96094 95842 94116 90068 94970 90813 94404 94598] \n",
      "\n",
      "\n",
      "Family Col Unique values:  [4 3 1 2] \n",
      "\n",
      "\n",
      "CCAvg Col Unique values:  [ 1.6   1.5   1.    2.7   0.4   0.3   0.6   8.9   2.4   0.1   3.8   2.5\n",
      "  2.    4.7   8.1   0.5   0.9   1.2   0.7   3.9   0.2   2.2   3.3   1.8\n",
      "  2.9   1.4   5.    2.3   1.1   5.7   4.5   2.1   8.    1.7   0.    2.8\n",
      "  3.5   4.    2.6   1.3   5.6   5.2   3.    4.6   3.6   7.2   1.75  7.4\n",
      "  2.67  7.5   6.5   7.8   7.9   4.1   1.9   4.3   6.8   5.1   3.1   0.8\n",
      "  3.7   6.2   0.75  2.33  4.9   0.67  3.2   5.5   6.9   4.33  7.3   4.2\n",
      "  4.4   6.1   6.33  6.6   5.3   3.4   7.    6.3   8.3   6.    1.67  8.6\n",
      "  7.6   6.4  10.    5.9   5.4   8.8   1.33  9.    6.7   4.25  6.67  5.8\n",
      "  4.8   3.25  5.67  8.5   4.75  4.67  3.67  8.2   3.33  5.33  9.3   2.75] \n",
      "\n",
      "\n",
      "Education Col Unique values:  [1 2 3] \n",
      "\n",
      "\n",
      "Mortgage Col Unique values:  [  0 155 104 134 111 260 163 159  97 122 193 198 285 412 153 211 207 240\n",
      " 455 112 336 132 118 174 126 236 166 136 309 103 366 101 251 276 161 149\n",
      " 188 116 135 244 164  81 315 140  95  89  90 105 100 282 209 249  91  98\n",
      " 145 150 169 280  99  78 264 113 117 325 121 138  77 158 109 131 391  88\n",
      " 129 196 617 123 167 190 248  82 402 360 392 185 419 270 148 466 175 147\n",
      " 220 133 182 290 125 124 224 141 119 139 115 458 172 156 547 470 304 221\n",
      " 108 179 271 378 176  76 314  87 203 180 230 137 152 485 300 272 144  94\n",
      " 208 275  83 218 327 322 205 227 239  85 160 364 449  75 107  92 187 355\n",
      " 106 587 214 307 263 310 127 252 170 265 177 305 372  79 301 232 289 212\n",
      " 250  84 130 303 256 259 204 524 157 231 287 247 333 229 357 361 294  86\n",
      " 329 142 184 442 233 215 394 475 197 228 297 128 241 437 178 428 162 234\n",
      " 257 219 337 382 397 181 120 380 200 433 222 483 154 171 146 110 201 277\n",
      " 268 237 102  93 354 195 194 238 226 318 342 266 114 245 341 421 359 565\n",
      " 319 151 267 601 567 352 284 199  80 334 389 186 246 589 242 143 323 535\n",
      " 293 398 343 255 311 446 223 262 422 192 217 168 299 505 400 165 183 326\n",
      " 298 569 374 216 191 408 406 452 432 312 477 396 582 358 213 467 331 295\n",
      " 235 635 385 328 522 496 415 461 344 206 368 321 296 373 292 383 427 189\n",
      " 202  96 429 431 286 508 210 416 553 403 225 500 313 410 273 381 330 345\n",
      " 253 258 351 353 308 278 464 509 243 173 481 281 306 577 302 405 571 581\n",
      " 550 283 612 590 541] \n",
      "\n",
      "\n",
      "Personal Loan Col Unique values:  [0 1] \n",
      "\n",
      "\n",
      "Securities Account Col Unique values:  [1 0] \n",
      "\n",
      "\n",
      "CD Account Col Unique values:  [0 1] \n",
      "\n",
      "\n",
      "Online Col Unique values:  [0 1] \n",
      "\n",
      "\n",
      "CreditCard Col Unique values:  [0 1] \n",
      "\n",
      "\n"
     ]
    }
   ],
   "source": [
    "for col in dataset.columns:\n",
    "    print(col + ' Col Unique values: ', dataset[col].unique(), '\\n\\n')"
   ]
  },
  {
   "cell_type": "markdown",
   "metadata": {},
   "source": [
    "# Number of people with zero mortgage"
   ]
  },
  {
   "cell_type": "code",
   "execution_count": 13,
   "metadata": {},
   "outputs": [
    {
     "name": "stdout",
     "output_type": "stream",
     "text": [
      "Number of people with zero mortgage  3462\n"
     ]
    }
   ],
   "source": [
    "zero_mortgage = 0\n",
    "for zero in dataset['Mortgage']:\n",
    "    if zero == 0:\n",
    "        zero_mortgage += 1\n",
    "print('Number of people with zero mortgage ', zero_mortgage)"
   ]
  },
  {
   "cell_type": "markdown",
   "metadata": {},
   "source": [
    "# Number of people with zero credit card spending per month"
   ]
  },
  {
   "cell_type": "code",
   "execution_count": 14,
   "metadata": {},
   "outputs": [
    {
     "name": "stdout",
     "output_type": "stream",
     "text": [
      "Number of people with zero credit card spending per month:  106\n"
     ]
    }
   ],
   "source": [
    "cc_avg = 0\n",
    "for avg in dataset['CCAvg']:\n",
    "    if avg == 0:\n",
    "        cc_avg += 1\n",
    "print('Number of people with zero credit card spending per month: ', cc_avg)"
   ]
  },
  {
   "cell_type": "markdown",
   "metadata": {},
   "source": [
    "  \n",
    "  "
   ]
  },
  {
   "cell_type": "markdown",
   "metadata": {},
   "source": [
    "### **Categorical columns in the dataset:**\n",
    "\n",
    "* **Personal Loan**\n",
    "\n",
    "\n",
    "* **Securities Account**\n",
    "\n",
    "\n",
    "* **CD Account**\n",
    "\n",
    "\n",
    "* **Online Col**\n",
    "\n",
    "\n",
    "* **CreditCard**\n",
    "\n",
    "### **Value counts of all categorical columns:**"
   ]
  },
  {
   "cell_type": "code",
   "execution_count": 15,
   "metadata": {},
   "outputs": [
    {
     "name": "stdout",
     "output_type": "stream",
     "text": [
      "Value count of Personal Loan: 13\n",
      "Value count of Securities Account: 18\n",
      "Value count of CD Account: 10\n",
      "Value count of Online Col: 10\n",
      "Value count of CreditCard: 10\n"
     ]
    }
   ],
   "source": [
    "categorical_col = ['Personal Loan', 'Securities Account', 'CD Account', 'Online Col', 'CreditCard']\n",
    "\n",
    "for col in categorical_col:\n",
    "    val = 0\n",
    "    for value in col:\n",
    "        val += 1\n",
    "    print('Value count of ' + col + ':', val)"
   ]
  },
  {
   "cell_type": "markdown",
   "metadata": {},
   "source": [
    "# Univariate \n",
    "* **Age Column**"
   ]
  },
  {
   "cell_type": "code",
   "execution_count": 16,
   "metadata": {},
   "outputs": [
    {
     "data": {
      "text/plain": [
       "<matplotlib.axes._subplots.AxesSubplot at 0x7f8836fbc810>"
      ]
     },
     "execution_count": 16,
     "metadata": {},
     "output_type": "execute_result"
    },
    {
     "data": {
      "image/png": "[encoded data removed]",
      "text/plain": [
       "<Figure size 1152x288 with 1 Axes>"
      ]
     },
     "metadata": {
      "needs_background": "light"
     },
     "output_type": "display_data"
    }
   ],
   "source": [
    "plt.figure(figsize=(16,4))\n",
    "sns.set_color_codes()\n",
    "sns.countplot(dataset[\"Age\"])"
   ]
  },
  {
   "cell_type": "code",
   "execution_count": 17,
   "metadata": {},
   "outputs": [
    {
     "data": {
      "text/plain": [
       "<matplotlib.axes._subplots.AxesSubplot at 0x7f8837541090>"
      ]
     },
     "execution_count": 17,
     "metadata": {},
     "output_type": "execute_result"
    },
    {
     "data": {
      "image/png": "[encoded data removed]",
      "text/plain": [
       "<Figure size 1296x360 with 1 Axes>"
      ]
     },
     "metadata": {
      "needs_background": "light"
     },
     "output_type": "display_data"
    }
   ],
   "source": [
    "plt.figure(figsize=(18,5))\n",
    "sns.set_color_codes()\n",
    "sns.distplot(dataset[\"Age\"])"
   ]
  },
  {
   "cell_type": "markdown",
   "metadata": {},
   "source": [
    "# Bivariate\n",
    "* **Age and Personal Loan**"
   ]
  },
  {
   "cell_type": "code",
   "execution_count": 18,
   "metadata": {},
   "outputs": [
    {
     "data": {
      "text/plain": [
       "<matplotlib.axes._subplots.AxesSubplot at 0x7f88374bcc10>"
      ]
     },
     "execution_count": 18,
     "metadata": {},
     "output_type": "execute_result"
    },
    {
     "data": {
      "image/png": "[encoded data removed]",
      "text/plain": [
       "<Figure size 864x288 with 1 Axes>"
      ]
     },
     "metadata": {
      "needs_background": "light"
     },
     "output_type": "display_data"
    }
   ],
   "source": [
    "plt.figure(figsize=(12,4))\n",
    "sns.set_color_codes()\n",
    "sns.barplot(dataset[\"Age\"],dataset[\"Personal Loan\"])"
   ]
  },
  {
   "cell_type": "code",
   "execution_count": 19,
   "metadata": {},
   "outputs": [
    {
     "data": {
      "text/plain": [
       "<matplotlib.axes._subplots.AxesSubplot at 0x7f88372f0890>"
      ]
     },
     "execution_count": 19,
     "metadata": {},
     "output_type": "execute_result"
    },
    {
     "data": {
      "image/png": "[encoded data removed]",
      "text/plain": [
       "<Figure size 864x288 with 1 Axes>"
      ]
     },
     "metadata": {
      "needs_background": "light"
     },
     "output_type": "display_data"
    }
   ],
   "source": [
    "plt.figure(figsize=(12,4))\n",
    "sns.set_color_codes()\n",
    "sns.boxplot(y=dataset[\"Age\"],x=dataset[\"Personal Loan\"])"
   ]
  },
  {
   "cell_type": "code",
   "execution_count": 25,
   "metadata": {},
   "outputs": [],
   "source": [
    "X = dataset.drop(columns = ['ID', 'Personal Loan'])\n",
    "y = dataset['Personal Loan']"
   ]
  },
  {
   "cell_type": "markdown",
   "metadata": {},
   "source": [
    "# Best features "
   ]
  },
  {
   "cell_type": "code",
   "execution_count": 26,
   "metadata": {},
   "outputs": [
    {
     "data": {
      "text/plain": [
       "['Experience', 'Family', 'CCAvg', 'Education', 'Personal Loan']"
      ]
     },
     "execution_count": 26,
     "metadata": {},
     "output_type": "execute_result"
    }
   ],
   "source": [
    "kbest = SelectKBest(k=5)\n",
    "k_best_features = kbest.fit_transform(X, y)\n",
    "list(dataset.columns[kbest.get_support (indices=True)])"
   ]
  },
  {
   "cell_type": "code",
   "execution_count": 27,
   "metadata": {},
   "outputs": [
    {
     "data": {
      "text/plain": [
       "Personal Loan    1.000000\n",
       "Income           0.502462\n",
       "CCAvg            0.366889\n",
       "CD Account       0.316355\n",
       "Mortgage         0.142095\n",
       "dtype: float64"
      ]
     },
     "execution_count": 27,
     "metadata": {},
     "output_type": "execute_result"
    }
   ],
   "source": [
    "dataset.corrwith(dataset[\"Personal Loan\"]).abs().nlargest(5)"
   ]
  },
  {
   "cell_type": "code",
   "execution_count": 28,
   "metadata": {},
   "outputs": [],
   "source": [
    "X = dataset.drop(columns = ['ID','Age','Experience','ZIP Code', 'Family', 'Education','Personal Loan','Securities Account', 'Online','CreditCard']).values\n",
    "y = dataset['Personal Loan'].values"
   ]
  },
  {
   "cell_type": "code",
   "execution_count": 29,
   "metadata": {},
   "outputs": [
    {
     "data": {
      "text/plain": [
       "Index(['ID', 'Age', 'Experience', 'Income', 'ZIP Code', 'Family', 'CCAvg',\n",
       "       'Education', 'Mortgage', 'Personal Loan', 'Securities Account',\n",
       "       'CD Account', 'Online', 'CreditCard'],\n",
       "      dtype='object')"
      ]
     },
     "execution_count": 29,
     "metadata": {},
     "output_type": "execute_result"
    }
   ],
   "source": [
    "dataset.columns"
   ]
  },
  {
   "cell_type": "markdown",
   "metadata": {},
   "source": [
    "# Dividing the dataset"
   ]
  },
  {
   "cell_type": "code",
   "execution_count": 30,
   "metadata": {},
   "outputs": [],
   "source": [
    "x_train, x_test, y_train, y_test = train_test_split(X, y, test_size = 0.3, random_state = 0)"
   ]
  },
  {
   "cell_type": "markdown",
   "metadata": {},
   "source": [
    "# Scaling"
   ]
  },
  {
   "cell_type": "code",
   "execution_count": 31,
   "metadata": {},
   "outputs": [],
   "source": [
    "sc = MinMaxScaler()\n",
    "X_train = sc.fit_transform(x_train)\n",
    "X_test = sc.fit_transform(x_test)"
   ]
  },
  {
   "cell_type": "markdown",
   "metadata": {},
   "source": [
    "# Modelling\n",
    "\n",
    "* **A small function for easier and easier use of the model. It can make your work quite easy when using more than one model.**"
   ]
  },
  {
   "cell_type": "code",
   "execution_count": 32,
   "metadata": {},
   "outputs": [],
   "source": [
    "def model_evaluate(model, test):\n",
    "    y_pred = model.predict(test)\n",
    "    print('Metrics: \\n', classification_report(y_test, y_pred))\n",
    "    cm = confusion_matrix(y_test, y_pred)\n",
    "\n",
    "    sns.heatmap(cm, cmap = 'Blues', fmt = '', annot = True)\n",
    "\n",
    "    plt.xlabel(\"Predicted values\", fontdict = {'size':14}, labelpad = 10)\n",
    "    plt.ylabel(\"Actual values\"   , fontdict = {'size':14}, labelpad = 10)\n",
    "    plt.title (\"Confusion Matrix\", fontdict = {'size':18}, pad = 20)"
   ]
  },
  {
   "cell_type": "markdown",
   "metadata": {},
   "source": [
    " "
   ]
  },
  {
   "cell_type": "markdown",
   "metadata": {},
   "source": [
    "* **Logistic Regression**"
   ]
  },
  {
   "cell_type": "code",
   "execution_count": 33,
   "metadata": {},
   "outputs": [
    {
     "name": "stdout",
     "output_type": "stream",
     "text": [
      "Metrics: \n",
      "               precision    recall  f1-score   support\n",
      "\n",
      "           0       0.95      0.98      0.96      1372\n",
      "           1       0.63      0.45      0.52       128\n",
      "\n",
      "    accuracy                           0.93      1500\n",
      "   macro avg       0.79      0.71      0.74      1500\n",
      "weighted avg       0.92      0.93      0.92      1500\n",
      "\n"
     ]
    },
    {
     "data": {
      "image/png": "[encoded data removed]",
      "text/plain": [
       "<Figure size 432x288 with 2 Axes>"
      ]
     },
     "metadata": {
      "needs_background": "light"
     },
     "output_type": "display_data"
    }
   ],
   "source": [
    "model = LogisticRegression(random_state = 0)\n",
    "model.fit(x_train, y_train)\n",
    "\n",
    "model_evaluate(model, x_test)"
   ]
  },
  {
   "cell_type": "markdown",
   "metadata": {},
   "source": [
    " "
   ]
  },
  {
   "cell_type": "markdown",
   "metadata": {},
   "source": [
    " "
   ]
  },
  {
   "cell_type": "markdown",
   "metadata": {},
   "source": [
    " "
   ]
  },
  {
   "cell_type": "markdown",
   "metadata": {},
   "source": [
    "* **Support Vector Classifier**"
   ]
  },
  {
   "cell_type": "code",
   "execution_count": 34,
   "metadata": {},
   "outputs": [
    {
     "name": "stdout",
     "output_type": "stream",
     "text": [
      "Metrics: \n",
      "               precision    recall  f1-score   support\n",
      "\n",
      "           0       0.94      0.99      0.96      1372\n",
      "           1       0.72      0.27      0.39       128\n",
      "\n",
      "    accuracy                           0.93      1500\n",
      "   macro avg       0.83      0.63      0.68      1500\n",
      "weighted avg       0.92      0.93      0.91      1500\n",
      "\n"
     ]
    },
    {
     "data": {
      "image/png": "[encoded data removed]",
      "text/plain": [
       "<Figure size 432x288 with 2 Axes>"
      ]
     },
     "metadata": {
      "needs_background": "light"
     },
     "output_type": "display_data"
    }
   ],
   "source": [
    "model = SVC(kernel = 'rbf') #kernel = poly, rbf, precomputed\n",
    "model.fit(X_train, y_train)\n",
    "\n",
    "model_evaluate(model, X_test)"
   ]
  },
  {
   "cell_type": "markdown",
   "metadata": {},
   "source": [
    " "
   ]
  },
  {
   "cell_type": "markdown",
   "metadata": {},
   "source": [
    " "
   ]
  },
  {
   "cell_type": "markdown",
   "metadata": {},
   "source": [
    " "
   ]
  },
  {
   "cell_type": "markdown",
   "metadata": {},
   "source": [
    "* **KNeighbors Classifier**"
   ]
  },
  {
   "cell_type": "code",
   "execution_count": 35,
   "metadata": {},
   "outputs": [
    {
     "name": "stdout",
     "output_type": "stream",
     "text": [
      "Metrics: \n",
      "               precision    recall  f1-score   support\n",
      "\n",
      "           0       0.95      0.98      0.96      1372\n",
      "           1       0.63      0.41      0.49       128\n",
      "\n",
      "    accuracy                           0.93      1500\n",
      "   macro avg       0.79      0.69      0.73      1500\n",
      "weighted avg       0.92      0.93      0.92      1500\n",
      "\n"
     ]
    },
    {
     "data": {
      "image/png": "[encoded data removed]",
      "text/plain": [
       "<Figure size 432x288 with 2 Axes>"
      ]
     },
     "metadata": {
      "needs_background": "light"
     },
     "output_type": "display_data"
    }
   ],
   "source": [
    "model = KNeighborsClassifier(n_neighbors = 7, metric = 'euclidean')\n",
    "model.fit(X_train, y_train)\n",
    "\n",
    "model_evaluate(model, X_test)"
   ]
  },
  {
   "cell_type": "markdown",
   "metadata": {},
   "source": [
    " "
   ]
  },
  {
   "cell_type": "markdown",
   "metadata": {},
   "source": [
    " "
   ]
  },
  {
   "cell_type": "markdown",
   "metadata": {},
   "source": [
    " "
   ]
  },
  {
   "cell_type": "markdown",
   "metadata": {},
   "source": [
    "* **Gaussian Naive Bayes**"
   ]
  },
  {
   "cell_type": "code",
   "execution_count": 36,
   "metadata": {
    "scrolled": true
   },
   "outputs": [
    {
     "name": "stdout",
     "output_type": "stream",
     "text": [
      "Metrics: \n",
      "               precision    recall  f1-score   support\n",
      "\n",
      "           0       0.96      0.90      0.93      1372\n",
      "           1       0.37      0.61      0.46       128\n",
      "\n",
      "    accuracy                           0.88      1500\n",
      "   macro avg       0.67      0.76      0.70      1500\n",
      "weighted avg       0.91      0.88      0.89      1500\n",
      "\n"
     ]
    },
    {
     "data": {
      "image/png": "[encoded data removed]",
      "text/plain": [
       "<Figure size 432x288 with 2 Axes>"
      ]
     },
     "metadata": {
      "needs_background": "light"
     },
     "output_type": "display_data"
    }
   ],
   "source": [
    "model = GaussianNB()\n",
    "model.fit(X_train, y_train)\n",
    "\n",
    "model_evaluate(model, X_test)"
   ]
  },
  {
   "cell_type": "markdown",
   "metadata": {},
   "source": [
    " "
   ]
  },
  {
   "cell_type": "markdown",
   "metadata": {},
   "source": [
    " "
   ]
  },
  {
   "cell_type": "markdown",
   "metadata": {},
   "source": [
    "* **XGBoost Classifier**"
   ]
  },
  {
   "cell_type": "code",
   "execution_count": 37,
   "metadata": {},
   "outputs": [
    {
     "name": "stdout",
     "output_type": "stream",
     "text": [
      "Metrics: \n",
      "               precision    recall  f1-score   support\n",
      "\n",
      "           0       0.95      0.97      0.96      1372\n",
      "           1       0.58      0.50      0.54       128\n",
      "\n",
      "    accuracy                           0.93      1500\n",
      "   macro avg       0.77      0.73      0.75      1500\n",
      "weighted avg       0.92      0.93      0.92      1500\n",
      "\n"
     ]
    },
    {
     "data": {
      "image/png": "[encoded data removed]",
      "text/plain": [
       "<Figure size 432x288 with 2 Axes>"
      ]
     },
     "metadata": {
      "needs_background": "light"
     },
     "output_type": "display_data"
    }
   ],
   "source": [
    "xgb = XGBClassifier()\n",
    "xgb.fit(X_train, y_train)\n",
    "\n",
    "model_evaluate(xgb, X_test)"
   ]
  },
  {
   "cell_type": "code",
   "execution_count": 38,
   "metadata": {},
   "outputs": [
    {
     "name": "stdout",
     "output_type": "stream",
     "text": [
      "XGBoost Accuracy:  0.9225714285714284\n",
      "XGBoost Std:  0.012742344640558725\n"
     ]
    }
   ],
   "source": [
    "crossVal= cross_val_score(estimator = xgb, X = X_train, y = y_train, cv = 10)\n",
    "print('XGBoost Accuracy: ', crossVal.mean())\n",
    "print('XGBoost Std: ', crossVal.std())\n"
   ]
  },
  {
   "cell_type": "code",
   "execution_count": 39,
   "metadata": {},
   "outputs": [
    {
     "name": "stdout",
     "output_type": "stream",
     "text": [
      "scores:\n",
      "[0.91428571 0.93714286 0.93428571 0.94       0.93714286 0.90285714\n",
      " 0.91428571 0.90857143 0.92       0.91714286]\n",
      "average score:\n",
      "0.9225714285714284\n"
     ]
    }
   ],
   "source": [
    "skf = StratifiedKFold(n_splits=10)\n",
    "scores = cross_val_score(xgb, X_train, y_train, cv=skf)\n",
    "print(\"scores:\\n{}\".format(scores))\n",
    "print(\"average score:\\n{}\".format(scores.mean()))"
   ]
  },
  {
   "cell_type": "code",
   "execution_count": 41,
   "metadata": {},
   "outputs": [
    {
     "name": "stdout",
     "output_type": "stream",
     "text": [
      "Best_Result 0.9242857142857142\n",
      "Best_Params {'base_score': 0.2, 'colsample_bylevel': 1, 'colsample_bytree': 1, 'gamma': 0, 'learning_rate': 0.1, 'missing': True, 'n_estimators': 150, 'reg_alpha': 3, 'reg_lambda': 1, 'subsample': 1}\n"
     ]
    }
   ],
   "source": [
    "params = [{'learning_rate':[0.1,0.01],\n",
    "           'colsample_bytree':[1,3],\n",
    "           'gamma':[0,1],\n",
    "           'reg_alpha':[2,3],\n",
    "           'reg_lambda':[1,2,4,16],\n",
    "           'n_estimators':[50,100,150],\n",
    "           'colsample_bylevel':[1,2],\n",
    "           'missing':[False, True],\n",
    "           'subsample':[1,2],\n",
    "           'base_score':[0.2,0.5]\n",
    "           }\n",
    "    ]\n",
    "\n",
    "gs = GridSearchCV(estimator = xgb,\n",
    "                  param_grid = params,\n",
    "                  scoring = 'accuracy',\n",
    "                  cv = 10,\n",
    "                  n_jobs = -1)\n",
    "grid_search = gs.fit(x_train, y_train)\n",
    "best_result = grid_search.best_score_\n",
    "best_params = grid_search.best_params_\n",
    "print('Best_Result', best_result)\n",
    "print('Best_Params', best_params)"
   ]
  },
  {
   "cell_type": "markdown",
   "metadata": {},
   "source": [
    " "
   ]
  },
  {
   "cell_type": "code",
   "execution_count": 42,
   "metadata": {},
   "outputs": [
    {
     "name": "stdout",
     "output_type": "stream",
     "text": [
      "Metrics: \n",
      "               precision    recall  f1-score   support\n",
      "\n",
      "           0       0.95      0.98      0.96      1372\n",
      "           1       0.67      0.47      0.55       128\n",
      "\n",
      "    accuracy                           0.93      1500\n",
      "   macro avg       0.81      0.72      0.76      1500\n",
      "weighted avg       0.93      0.93      0.93      1500\n",
      "\n"
     ]
    },
    {
     "data": {
      "image/png": "[encoded data removed]",
      "text/plain": [
       "<Figure size 432x288 with 2 Axes>"
      ]
     },
     "metadata": {
      "needs_background": "light"
     },
     "output_type": "display_data"
    }
   ],
   "source": [
    "xgb = XGBClassifier(base_score = 0.2, colsample_bylevel = 1, colsample_bytree = 1, gamma = 0, learning_rate = 0.1, missing = True, n_estimators = 150, reg_alpha = 3, reg_lambda = 1, subsample = 1)\n",
    "xgb.fit(X_train, y_train)\n",
    "\n",
    "model_evaluate(xgb, X_test)"
   ]
  },
  {
   "cell_type": "markdown",
   "metadata": {},
   "source": [
    " "
   ]
  },
  {
   "cell_type": "markdown",
   "metadata": {},
   "source": [
    " "
   ]
  },
  {
   "cell_type": "markdown",
   "metadata": {},
   "source": [
    "# Conclusion\n",
    "\n",
    "* **The bank's expectation from the dataset is to take out loans to its debtor customers and turn them into loan customers. Therefore, it is desired to create a new marketing campaign by making inferences about the connection between the variables.**\n",
    "\n",
    "* **It seems that the XGBoost algorithm successfully accomplishes the necessary correlation.**\n"
   ]
  }
 ],
 "metadata": {
  "kernelspec": {
   "display_name": "Python 3",
   "language": "python",
   "name": "python3"
  },
  "language_info": {
   "codemirror_mode": {
    "name": "ipython",
    "version": 3
   },
   "file_extension": ".py",
   "mimetype": "text/x-python",
   "name": "python",
   "nbconvert_exporter": "python",
   "pygments_lexer": "ipython3",
   "version": "3.7.6"
  }
 },
 "nbformat": 4,
 "nbformat_minor": 4
}
